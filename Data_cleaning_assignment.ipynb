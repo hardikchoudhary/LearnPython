{
  "nbformat": 4,
  "nbformat_minor": 0,
  "metadata": {
    "colab": {
      "name": "Data cleaning assignment.ipynb",
      "provenance": [],
      "collapsed_sections": [
        "XT6NKwOLKpZq",
        "qzhiwXT0VEre",
        "s14xVGZMVUmR"
      ],
      "authorship_tag": "ABX9TyMbDlLedjHohuIjpgX+Q2gt",
      "include_colab_link": true
    },
    "kernelspec": {
      "name": "python3",
      "display_name": "Python 3"
    }
  },
  "cells": [
    {
      "cell_type": "markdown",
      "metadata": {
        "id": "view-in-github",
        "colab_type": "text"
      },
      "source": [
        "<a href=\"https://colab.research.google.com/github/hardikchoudhary/LearnPython/blob/master/Data_cleaning_assignment.ipynb\" target=\"_parent\"><img src=\"https://colab.research.google.com/assets/colab-badge.svg\" alt=\"Open In Colab\"/></a>"
      ]
    },
    {
      "cell_type": "markdown",
      "metadata": {
        "id": "Qsa791-3B92s",
        "colab_type": "text"
      },
      "source": [
        "***2.Problem Statement***\n",
        "It happens all the time: someone gives you data containing malformed strings,\n",
        "Python, lists and missing data. How do you tidy it up so you can get on with the\n",
        "analysis?\n",
        "Take this monstrosity as the DataFrame to use in the following puzzles:\n",
        "df = pd.DataFrame({'From_To': ['LoNDon_paris', 'MAdrid_miLAN',\n",
        "'londON_StockhOlm',\n",
        "\n",
        "'Budapest_PaRis', 'Brussels_londOn'],\n",
        "'FlightNumber': [10045, np.nan, 10065, np.nan, 10085],\n",
        "'RecentDelays': [[23, 47], [], [24, 43, 87], [13], [67, 32]],\n",
        "'Airline': ['KLM(!)', '<Air France> (12)', '(British Airways. )',\n",
        "'12. Air France', '\"Swiss Air\"']})"
      ]
    },
    {
      "cell_type": "code",
      "metadata": {
        "id": "sPnJqRndB1tz",
        "colab_type": "code",
        "colab": {}
      },
      "source": [
        "import pandas as pd\n",
        "import numpy as np"
      ],
      "execution_count": 0,
      "outputs": []
    },
    {
      "cell_type": "code",
      "metadata": {
        "id": "vBf7v7ikCI9_",
        "colab_type": "code",
        "colab": {}
      },
      "source": [
        "data={'From_To': ['LoNDon_paris', 'MAdrid_miLAN', 'londON_StockhOlm','Budapest_PaRis', 'Brussels_londOn'], \n",
        "      'FlightNumber': [10045, np.nan, 10065, np.nan, 10085], \n",
        "      'RecentDelays': [[23, 47], [], [24, 43, 87], [13], [67, 32]], \n",
        "      'Airline': ['KLM(!)', ' (12)', '(British Airways. )', '12. Air France', '\"Swiss Air\"']}"
      ],
      "execution_count": 0,
      "outputs": []
    },
    {
      "cell_type": "code",
      "metadata": {
        "id": "AA-QWFo-CPRy",
        "colab_type": "code",
        "outputId": "763a55cb-7cfc-4569-8f20-03c527697064",
        "colab": {
          "base_uri": "https://localhost:8080/",
          "height": 119
        }
      },
      "source": [
        "df=pd.DataFrame(data)\n",
        "print(df)"
      ],
      "execution_count": 32,
      "outputs": [
        {
          "output_type": "stream",
          "text": [
            "            From_To  FlightNumber  RecentDelays              Airline\n",
            "0      LoNDon_paris       10045.0      [23, 47]               KLM(!)\n",
            "1      MAdrid_miLAN           NaN            []                 (12)\n",
            "2  londON_StockhOlm       10065.0  [24, 43, 87]  (British Airways. )\n",
            "3    Budapest_PaRis           NaN          [13]       12. Air France\n",
            "4   Brussels_londOn       10085.0      [67, 32]          \"Swiss Air\"\n"
          ],
          "name": "stdout"
        }
      ]
    },
    {
      "cell_type": "code",
      "metadata": {
        "id": "M4yPzfpzCdv5",
        "colab_type": "code",
        "colab": {}
      },
      "source": [
        ""
      ],
      "execution_count": 0,
      "outputs": []
    },
    {
      "cell_type": "markdown",
      "metadata": {
        "id": "XT6NKwOLKpZq",
        "colab_type": "text"
      },
      "source": [
        "# **Question 1.** Some values in the the FlightNumber column are missing. These numbers are\n",
        "meant to increase by 10 with each row so 10055 and 10075 need to be put in\n",
        "place. Fill in these missing numbers and make the column an integer column\n",
        "(instead of a float column)"
      ]
    },
    {
      "cell_type": "code",
      "metadata": {
        "id": "si2hQuLxEntY",
        "colab_type": "code",
        "outputId": "d2b99653-97a7-4346-8736-898b17fc79c2",
        "colab": {
          "base_uri": "https://localhost:8080/",
          "height": 68
        }
      },
      "source": [
        "#get the first number and after that increase by 10 from lambda map function\n",
        "firstFlight=df['FlightNumber'].iloc[0]\n",
        "\n",
        "#get the length and then create the list that will work as index list to pass to the from lambda map function\n",
        "\n",
        "print(\"Getting index as a list \\n\",\"*\"*60)\n",
        "indexList=list(np.arange(len(df['FlightNumber'])))\n",
        "indexList"
      ],
      "execution_count": 0,
      "outputs": [
        {
          "output_type": "stream",
          "text": [
            "Getting index as a list \n",
            " ************************************************************\n"
          ],
          "name": "stdout"
        },
        {
          "output_type": "execute_result",
          "data": {
            "text/plain": [
              "[0, 1, 2, 3, 4]"
            ]
          },
          "metadata": {
            "tags": []
          },
          "execution_count": 38
        }
      ]
    },
    {
      "cell_type": "code",
      "metadata": {
        "id": "Xe4pUQwtEyPR",
        "colab_type": "code",
        "outputId": "2ff13547-557d-4cee-a9a5-4d9469ed2f68",
        "colab": {
          "base_uri": "https://localhost:8080/",
          "height": 153
        }
      },
      "source": [
        "#Getting whole column increase by 10 and replaced back in the df\n",
        "df['FlightNumber']=list(map(lambda x:firstFlight+10*x,indexList))\n",
        "\n",
        "#changing whole column data type to integer from float\n",
        "df['FlightNumber'] = df['FlightNumber'].astype(int)\n",
        "\n",
        "\n",
        "print(\"Final output after Fill in missing Flightnumber increase by 10 and make the column an integer column  \\n\",\"*\"*60)\n",
        "print(df)"
      ],
      "execution_count": 0,
      "outputs": [
        {
          "output_type": "stream",
          "text": [
            "Final output after Fill in missing Flightnumber increase by 10 and make the column an integer column  \n",
            " ************************************************************\n",
            "            From_To  FlightNumber  RecentDelays              Airline\n",
            "0      LoNDon_paris         10045      [23, 47]               KLM(!)\n",
            "1      MAdrid_miLAN         10055            []                 (12)\n",
            "2  londON_StockhOlm         10065  [24, 43, 87]  (British Airways. )\n",
            "3    Budapest_PaRis         10075          [13]       12. Air France\n",
            "4   Brussels_londOn         10085      [67, 32]          \"Swiss Air\"\n"
          ],
          "name": "stdout"
        }
      ]
    },
    {
      "cell_type": "markdown",
      "metadata": {
        "id": "3zUzCPfbLZqL",
        "colab_type": "text"
      },
      "source": [
        "# **Question 2**. The From_To column would be better as two separate columns! Split each\n",
        "string on the underscore delimiter _ to give a new temporary DataFrame with\n",
        "the correct values. Assign the correct column names to this temporary\n",
        "DataFrame.\n",
        "\n",
        "\n",
        "1.   Lambda map function \n",
        "2.   Direct approach\n",
        "\n"
      ]
    },
    {
      "cell_type": "code",
      "metadata": {
        "id": "pkkFwEU5LrOY",
        "colab_type": "code",
        "outputId": "353c8cf7-980b-4da1-8496-999e7c8048ea",
        "colab": {
          "base_uri": "https://localhost:8080/",
          "height": 34
        }
      },
      "source": [
        "def splitFunction(s):\n",
        "  return s.split(\"_\")[0]\n",
        "\n",
        "#splitFunction(\"hardik_choudhary\")\n"
      ],
      "execution_count": 0,
      "outputs": [
        {
          "output_type": "execute_result",
          "data": {
            "text/plain": [
              "'hardik'"
            ]
          },
          "metadata": {
            "tags": []
          },
          "execution_count": 43
        }
      ]
    },
    {
      "cell_type": "markdown",
      "metadata": {
        "id": "eLYlzjlMNZtC",
        "colab_type": "text"
      },
      "source": [
        "`Through the map function *lambda*`"
      ]
    },
    {
      "cell_type": "code",
      "metadata": {
        "id": "VNSU3eBEMYis",
        "colab_type": "code",
        "outputId": "cb16b98e-d628-4723-87cd-e0646eb20e0f",
        "colab": {
          "base_uri": "https://localhost:8080/",
          "height": 170
        }
      },
      "source": [
        "df['From']=list(map(lambda x:x.split('_')[0],list(df['From_To'])))\n",
        "df['To']=list(map(lambda x:x.split('_')[1],list(df['From_To'])))\n",
        "\n",
        "print(\"Resulting data frame with from and to separate \\n\",df )"
      ],
      "execution_count": 33,
      "outputs": [
        {
          "output_type": "stream",
          "text": [
            "Resulting data frame with from and to separate \n",
            "             From_To  FlightNumber  ...      From         To\n",
            "0      LoNDon_paris       10045.0  ...    LoNDon      paris\n",
            "1      MAdrid_miLAN           NaN  ...    MAdrid      miLAN\n",
            "2  londON_StockhOlm       10065.0  ...    londON  StockhOlm\n",
            "3    Budapest_PaRis           NaN  ...  Budapest      PaRis\n",
            "4   Brussels_londOn       10085.0  ...  Brussels     londOn\n",
            "\n",
            "[5 rows x 6 columns]\n"
          ],
          "name": "stdout"
        }
      ]
    },
    {
      "cell_type": "markdown",
      "metadata": {
        "id": "Va578RkPNqfZ",
        "colab_type": "text"
      },
      "source": [
        "Direct approach"
      ]
    },
    {
      "cell_type": "code",
      "metadata": {
        "id": "-dNalSQeNsuo",
        "colab_type": "code",
        "outputId": "3988629a-4a28-4239-a5a3-1e2126115916",
        "colab": {
          "base_uri": "https://localhost:8080/",
          "height": 204
        }
      },
      "source": [
        "# new data frame with split value columns \n",
        "new = df[\"From_To\"].str.split(\"_\", expand = True) \n",
        "\n",
        "# making separate first name column from new data frame \n",
        "df[\"From\"]= new[0] \n",
        "# making separate first name column from new data frame \n",
        "df[\"To\"]= new[1] \n",
        "\n",
        "df"
      ],
      "execution_count": 34,
      "outputs": [
        {
          "output_type": "execute_result",
          "data": {
            "text/html": [
              "<div>\n",
              "<style scoped>\n",
              "    .dataframe tbody tr th:only-of-type {\n",
              "        vertical-align: middle;\n",
              "    }\n",
              "\n",
              "    .dataframe tbody tr th {\n",
              "        vertical-align: top;\n",
              "    }\n",
              "\n",
              "    .dataframe thead th {\n",
              "        text-align: right;\n",
              "    }\n",
              "</style>\n",
              "<table border=\"1\" class=\"dataframe\">\n",
              "  <thead>\n",
              "    <tr style=\"text-align: right;\">\n",
              "      <th></th>\n",
              "      <th>From_To</th>\n",
              "      <th>FlightNumber</th>\n",
              "      <th>RecentDelays</th>\n",
              "      <th>Airline</th>\n",
              "      <th>From</th>\n",
              "      <th>To</th>\n",
              "    </tr>\n",
              "  </thead>\n",
              "  <tbody>\n",
              "    <tr>\n",
              "      <th>0</th>\n",
              "      <td>LoNDon_paris</td>\n",
              "      <td>10045.0</td>\n",
              "      <td>[23, 47]</td>\n",
              "      <td>KLM(!)</td>\n",
              "      <td>LoNDon</td>\n",
              "      <td>paris</td>\n",
              "    </tr>\n",
              "    <tr>\n",
              "      <th>1</th>\n",
              "      <td>MAdrid_miLAN</td>\n",
              "      <td>NaN</td>\n",
              "      <td>[]</td>\n",
              "      <td>(12)</td>\n",
              "      <td>MAdrid</td>\n",
              "      <td>miLAN</td>\n",
              "    </tr>\n",
              "    <tr>\n",
              "      <th>2</th>\n",
              "      <td>londON_StockhOlm</td>\n",
              "      <td>10065.0</td>\n",
              "      <td>[24, 43, 87]</td>\n",
              "      <td>(British Airways. )</td>\n",
              "      <td>londON</td>\n",
              "      <td>StockhOlm</td>\n",
              "    </tr>\n",
              "    <tr>\n",
              "      <th>3</th>\n",
              "      <td>Budapest_PaRis</td>\n",
              "      <td>NaN</td>\n",
              "      <td>[13]</td>\n",
              "      <td>12. Air France</td>\n",
              "      <td>Budapest</td>\n",
              "      <td>PaRis</td>\n",
              "    </tr>\n",
              "    <tr>\n",
              "      <th>4</th>\n",
              "      <td>Brussels_londOn</td>\n",
              "      <td>10085.0</td>\n",
              "      <td>[67, 32]</td>\n",
              "      <td>\"Swiss Air\"</td>\n",
              "      <td>Brussels</td>\n",
              "      <td>londOn</td>\n",
              "    </tr>\n",
              "  </tbody>\n",
              "</table>\n",
              "</div>"
            ],
            "text/plain": [
              "            From_To  FlightNumber  ...      From         To\n",
              "0      LoNDon_paris       10045.0  ...    LoNDon      paris\n",
              "1      MAdrid_miLAN           NaN  ...    MAdrid      miLAN\n",
              "2  londON_StockhOlm       10065.0  ...    londON  StockhOlm\n",
              "3    Budapest_PaRis           NaN  ...  Budapest      PaRis\n",
              "4   Brussels_londOn       10085.0  ...  Brussels     londOn\n",
              "\n",
              "[5 rows x 6 columns]"
            ]
          },
          "metadata": {
            "tags": []
          },
          "execution_count": 34
        }
      ]
    },
    {
      "cell_type": "markdown",
      "metadata": {
        "id": "qzhiwXT0VEre",
        "colab_type": "text"
      },
      "source": [
        "# 3. Notice how the capitalisation of the city names is all mixed up in this\n",
        "temporary DataFrame. Standardise the strings so that only the first letter is\n",
        "uppercase (e.g. \"londON\" should become \"London\".)"
      ]
    },
    {
      "cell_type": "code",
      "metadata": {
        "id": "f3pwmpYARxiL",
        "colab_type": "code",
        "colab": {
          "base_uri": "https://localhost:8080/",
          "height": 204
        },
        "outputId": "3759b2cd-3af7-476c-e9d0-b6de80221eb1"
      },
      "source": [
        "\n",
        "def firstUpper(strs):\n",
        "  return strs.capitalize()\n",
        "\n",
        "\n",
        "df['From']=list(map(firstUpper,list(df['From'])))\n",
        "df\n"
      ],
      "execution_count": 36,
      "outputs": [
        {
          "output_type": "execute_result",
          "data": {
            "text/html": [
              "<div>\n",
              "<style scoped>\n",
              "    .dataframe tbody tr th:only-of-type {\n",
              "        vertical-align: middle;\n",
              "    }\n",
              "\n",
              "    .dataframe tbody tr th {\n",
              "        vertical-align: top;\n",
              "    }\n",
              "\n",
              "    .dataframe thead th {\n",
              "        text-align: right;\n",
              "    }\n",
              "</style>\n",
              "<table border=\"1\" class=\"dataframe\">\n",
              "  <thead>\n",
              "    <tr style=\"text-align: right;\">\n",
              "      <th></th>\n",
              "      <th>From_To</th>\n",
              "      <th>FlightNumber</th>\n",
              "      <th>RecentDelays</th>\n",
              "      <th>Airline</th>\n",
              "      <th>From</th>\n",
              "      <th>To</th>\n",
              "    </tr>\n",
              "  </thead>\n",
              "  <tbody>\n",
              "    <tr>\n",
              "      <th>0</th>\n",
              "      <td>LoNDon_paris</td>\n",
              "      <td>10045.0</td>\n",
              "      <td>[23, 47]</td>\n",
              "      <td>KLM(!)</td>\n",
              "      <td>London</td>\n",
              "      <td>paris</td>\n",
              "    </tr>\n",
              "    <tr>\n",
              "      <th>1</th>\n",
              "      <td>MAdrid_miLAN</td>\n",
              "      <td>NaN</td>\n",
              "      <td>[]</td>\n",
              "      <td>(12)</td>\n",
              "      <td>Madrid</td>\n",
              "      <td>miLAN</td>\n",
              "    </tr>\n",
              "    <tr>\n",
              "      <th>2</th>\n",
              "      <td>londON_StockhOlm</td>\n",
              "      <td>10065.0</td>\n",
              "      <td>[24, 43, 87]</td>\n",
              "      <td>(British Airways. )</td>\n",
              "      <td>London</td>\n",
              "      <td>StockhOlm</td>\n",
              "    </tr>\n",
              "    <tr>\n",
              "      <th>3</th>\n",
              "      <td>Budapest_PaRis</td>\n",
              "      <td>NaN</td>\n",
              "      <td>[13]</td>\n",
              "      <td>12. Air France</td>\n",
              "      <td>Budapest</td>\n",
              "      <td>PaRis</td>\n",
              "    </tr>\n",
              "    <tr>\n",
              "      <th>4</th>\n",
              "      <td>Brussels_londOn</td>\n",
              "      <td>10085.0</td>\n",
              "      <td>[67, 32]</td>\n",
              "      <td>\"Swiss Air\"</td>\n",
              "      <td>Brussels</td>\n",
              "      <td>londOn</td>\n",
              "    </tr>\n",
              "  </tbody>\n",
              "</table>\n",
              "</div>"
            ],
            "text/plain": [
              "            From_To  FlightNumber  ...      From         To\n",
              "0      LoNDon_paris       10045.0  ...    London      paris\n",
              "1      MAdrid_miLAN           NaN  ...    Madrid      miLAN\n",
              "2  londON_StockhOlm       10065.0  ...    London  StockhOlm\n",
              "3    Budapest_PaRis           NaN  ...  Budapest      PaRis\n",
              "4   Brussels_londOn       10085.0  ...  Brussels     londOn\n",
              "\n",
              "[5 rows x 6 columns]"
            ]
          },
          "metadata": {
            "tags": []
          },
          "execution_count": 36
        }
      ]
    },
    {
      "cell_type": "markdown",
      "metadata": {
        "id": "rrNQni4jVLIJ",
        "colab_type": "text"
      },
      "source": [
        "# 4. Delete the From_To column from df and attach the temporary DataFrame\n",
        "from the previous questions."
      ]
    },
    {
      "cell_type": "code",
      "metadata": {
        "id": "hotfnWVIaD4R",
        "colab_type": "code",
        "colab": {
          "base_uri": "https://localhost:8080/",
          "height": 204
        },
        "outputId": "b0463075-9b7c-4627-d4e2-53ae1b881db5"
      },
      "source": [
        "df.drop(columns='From_To',inplace=True)\n",
        "df"
      ],
      "execution_count": 38,
      "outputs": [
        {
          "output_type": "execute_result",
          "data": {
            "text/html": [
              "<div>\n",
              "<style scoped>\n",
              "    .dataframe tbody tr th:only-of-type {\n",
              "        vertical-align: middle;\n",
              "    }\n",
              "\n",
              "    .dataframe tbody tr th {\n",
              "        vertical-align: top;\n",
              "    }\n",
              "\n",
              "    .dataframe thead th {\n",
              "        text-align: right;\n",
              "    }\n",
              "</style>\n",
              "<table border=\"1\" class=\"dataframe\">\n",
              "  <thead>\n",
              "    <tr style=\"text-align: right;\">\n",
              "      <th></th>\n",
              "      <th>FlightNumber</th>\n",
              "      <th>RecentDelays</th>\n",
              "      <th>Airline</th>\n",
              "      <th>From</th>\n",
              "      <th>To</th>\n",
              "    </tr>\n",
              "  </thead>\n",
              "  <tbody>\n",
              "    <tr>\n",
              "      <th>0</th>\n",
              "      <td>10045.0</td>\n",
              "      <td>[23, 47]</td>\n",
              "      <td>KLM(!)</td>\n",
              "      <td>London</td>\n",
              "      <td>paris</td>\n",
              "    </tr>\n",
              "    <tr>\n",
              "      <th>1</th>\n",
              "      <td>NaN</td>\n",
              "      <td>[]</td>\n",
              "      <td>(12)</td>\n",
              "      <td>Madrid</td>\n",
              "      <td>miLAN</td>\n",
              "    </tr>\n",
              "    <tr>\n",
              "      <th>2</th>\n",
              "      <td>10065.0</td>\n",
              "      <td>[24, 43, 87]</td>\n",
              "      <td>(British Airways. )</td>\n",
              "      <td>London</td>\n",
              "      <td>StockhOlm</td>\n",
              "    </tr>\n",
              "    <tr>\n",
              "      <th>3</th>\n",
              "      <td>NaN</td>\n",
              "      <td>[13]</td>\n",
              "      <td>12. Air France</td>\n",
              "      <td>Budapest</td>\n",
              "      <td>PaRis</td>\n",
              "    </tr>\n",
              "    <tr>\n",
              "      <th>4</th>\n",
              "      <td>10085.0</td>\n",
              "      <td>[67, 32]</td>\n",
              "      <td>\"Swiss Air\"</td>\n",
              "      <td>Brussels</td>\n",
              "      <td>londOn</td>\n",
              "    </tr>\n",
              "  </tbody>\n",
              "</table>\n",
              "</div>"
            ],
            "text/plain": [
              "   FlightNumber  RecentDelays              Airline      From         To\n",
              "0       10045.0      [23, 47]               KLM(!)    London      paris\n",
              "1           NaN            []                 (12)    Madrid      miLAN\n",
              "2       10065.0  [24, 43, 87]  (British Airways. )    London  StockhOlm\n",
              "3           NaN          [13]       12. Air France  Budapest      PaRis\n",
              "4       10085.0      [67, 32]          \"Swiss Air\"  Brussels     londOn"
            ]
          },
          "metadata": {
            "tags": []
          },
          "execution_count": 38
        }
      ]
    },
    {
      "cell_type": "markdown",
      "metadata": {
        "id": "s14xVGZMVUmR",
        "colab_type": "text"
      },
      "source": [
        "# 5. In the RecentDelays column, the values have been entered into the\n",
        "DataFrame as a list. We would like each first value in its own column, each\n",
        "\n",
        "second value in its own column, and so on. If there isn't an Nth value, the value\n",
        "should be NaN.\n",
        "Expand the Series of lists into a DataFrame named delays, rename the columns\n",
        "delay_1, delay_2, etc. and replace the unwanted RecentDelays column in df\n",
        "with delays.\n",
        "Note: Solution submitted"
      ]
    },
    {
      "cell_type": "code",
      "metadata": {
        "id": "jvNkkAGYbw0G",
        "colab_type": "code",
        "colab": {
          "base_uri": "https://localhost:8080/",
          "height": 129
        },
        "outputId": "972f924b-bb80-4d3a-ffc6-23f2b48bd580"
      },
      "source": [
        "#function to create the delay_1 delay_2 columns use of apply function\n",
        "def createColumns(counters,dataFrame):\n",
        "  return df['delays_'+counters+1]"
      ],
      "execution_count": 59,
      "outputs": [
        {
          "output_type": "error",
          "ename": "SyntaxError",
          "evalue": "ignored",
          "traceback": [
            "\u001b[0;36m  File \u001b[0;32m\"<ipython-input-59-72bac7fec7af>\"\u001b[0;36m, line \u001b[0;32m2\u001b[0m\n\u001b[0;31m    return df['delays_'+counters+1]=dataFrame\u001b[0m\n\u001b[0m                                   ^\u001b[0m\n\u001b[0;31mSyntaxError\u001b[0m\u001b[0;31m:\u001b[0m invalid syntax\n"
          ]
        }
      ]
    },
    {
      "cell_type": "code",
      "metadata": {
        "id": "ocptmXJCaZks",
        "colab_type": "code",
        "colab": {
          "base_uri": "https://localhost:8080/",
          "height": 102
        },
        "outputId": "2973034d-dbb2-43f1-936b-24eca42c72e6"
      },
      "source": [
        "#use the max length function to find the maximum number of element in the list\n",
        "#to create delay_1, delay_2 dynamically\n",
        "\n",
        "recentDelays=list(df['RecentDelays'])\n",
        "print(\"recent delays \\n\",recentDelays)\n",
        "\n",
        "max_columnsCount=len(max(recentDelays,key=len))\n",
        "print(\"total delay_? that needs to be created is \\n\",max_columnsCount)\n",
        "\n",
        "#getting List\n",
        "columnNumberList=np.arange(max_columnsCount)\n",
        "print(columnNumberList)"
      ],
      "execution_count": 62,
      "outputs": [
        {
          "output_type": "stream",
          "text": [
            "recent delays \n",
            " [[23, 47], [], [24, 43, 87], [13], [67, 32]]\n",
            "total delay_? that needs to be created is \n",
            " 3\n",
            "[0 1 2]\n"
          ],
          "name": "stdout"
        }
      ]
    },
    {
      "cell_type": "code",
      "metadata": {
        "id": "t1IgOq_9eYcq",
        "colab_type": "code",
        "colab": {}
      },
      "source": [
        "for n in columnNumberList:\n",
        "  df['delays_'+n+1]="
      ],
      "execution_count": 0,
      "outputs": []
    }
  ]
}
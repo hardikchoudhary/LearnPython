{
  "nbformat": 4,
  "nbformat_minor": 0,
  "metadata": {
    "colab": {
      "name": "python assignment 4.ipynb",
      "provenance": [],
      "authorship_tag": "ABX9TyNErYRtkS1/49mLK62M89BI",
      "include_colab_link": true
    },
    "kernelspec": {
      "name": "python3",
      "display_name": "Python 3"
    }
  },
  "cells": [
    {
      "cell_type": "markdown",
      "metadata": {
        "id": "view-in-github",
        "colab_type": "text"
      },
      "source": [
        "<a href=\"https://colab.research.google.com/github/hardikchoudhary/LearnPython/blob/master/python_assignment_4.ipynb\" target=\"_parent\"><img src=\"https://colab.research.google.com/assets/colab-badge.svg\" alt=\"Open In Colab\"/></a>"
      ]
    },
    {
      "cell_type": "markdown",
      "metadata": {
        "id": "MMp7AZasRJZi",
        "colab_type": "text"
      },
      "source": [
        "1.1 Write a Python Program(with class concepts) to find the area of the triangle using the below formula. \n",
        "area = (s*(s-a)*(s-b)*(s-c)) ** 0.5 \n",
        "Function to take the length of the sides of triangle from user should be defined in the parent class and function to calculate the area should be defined in subclass. \n",
        "\n"
      ]
    },
    {
      "cell_type": "code",
      "metadata": {
        "id": "f3deg5RuQaF5",
        "colab_type": "code",
        "colab": {}
      },
      "source": [
        "# as sudhanshu sir said class concept is not of much use so not giving a try here "
      ],
      "execution_count": 0,
      "outputs": []
    },
    {
      "cell_type": "markdown",
      "metadata": {
        "id": "3hJLCJMFRNSN",
        "colab_type": "text"
      },
      "source": [
        "1.2 Write a function filter_long_words() that takes a list of words and an integer n and returns the list of words that are longer than n. "
      ]
    },
    {
      "cell_type": "code",
      "metadata": {
        "id": "M-pu4ZH2sZSS",
        "colab_type": "code",
        "outputId": "c9fc45a9-5425-410c-c196-6d5e1359601d",
        "colab": {
          "base_uri": "https://localhost:8080/",
          "height": 34
        }
      },
      "source": [
        "#through filter and lambda expression\n",
        "\n",
        "def filter_long_words(n,wordsList):\n",
        "  op=list(filter(lambda x:len(x)>n,wordsList))\n",
        "  return op\n",
        "\n",
        "wordsList=[\"hardik\",\"choudhary\",\"use\"]\n",
        "filter_long_words(3,wordsList)\n",
        "\n"
      ],
      "execution_count": 0,
      "outputs": [
        {
          "output_type": "execute_result",
          "data": {
            "text/plain": [
              "['hardik', 'choudhary']"
            ]
          },
          "metadata": {
            "tags": []
          },
          "execution_count": 12
        }
      ]
    },
    {
      "cell_type": "markdown",
      "metadata": {
        "id": "HlKiRVHeRSvK",
        "colab_type": "text"
      },
      "source": [
        "2.1 Write a Python program using function concept that maps list of words into a list of integers representing the lengths of the corresponding words. \n",
        "Hint: If a list [ ab,cde,erty] is passed on to the python function output should come as [2,3,4] \n",
        "Here 2,3 and 4 are the lengths of the words in the list. \n"
      ]
    },
    {
      "cell_type": "code",
      "metadata": {
        "id": "bmTzOieo3JoK",
        "colab_type": "code",
        "outputId": "8df0fbee-4158-4088-beb4-74b16238131d",
        "colab": {
          "base_uri": "https://localhost:8080/",
          "height": 34
        }
      },
      "source": [
        "def stringtoLength(words):\n",
        "  return len(words)\n",
        "\n",
        "wordsList=[\"ab\",\"cde\",\"erty\"] \n",
        "list(map(stringtoLength,wordsList))\n"
      ],
      "execution_count": 0,
      "outputs": [
        {
          "output_type": "execute_result",
          "data": {
            "text/plain": [
              "[2, 3, 4]"
            ]
          },
          "metadata": {
            "tags": []
          },
          "execution_count": 19
        }
      ]
    },
    {
      "cell_type": "markdown",
      "metadata": {
        "id": "Wx1CiFj2RwjV",
        "colab_type": "text"
      },
      "source": [
        "2.2 Write a Python function which takes a character (i.e. a string of length 1) and returns True if it is a vowel, False otherwise. "
      ]
    },
    {
      "cell_type": "code",
      "metadata": {
        "id": "43-NdLto5DIi",
        "colab_type": "code",
        "outputId": "10450ebf-2aa1-4619-8613-64e9afd7b59b",
        "colab": {
          "base_uri": "https://localhost:8080/",
          "height": 34
        }
      },
      "source": [
        "def isvowel(c):\n",
        "  if len(c)==1 and c.isalpha():\n",
        "\n",
        "    if c.lower() in [\"a\",\"e\",\"i\",\"o\",\"u\"]:\n",
        "      return True\n",
        "    else:\n",
        "      return False\n",
        "  else:\n",
        "    print(\"Please pass only single character or alphabet only\")\n",
        "\n",
        "op=isvowel(\"A\")\n",
        "op"
      ],
      "execution_count": 0,
      "outputs": [
        {
          "output_type": "execute_result",
          "data": {
            "text/plain": [
              "True"
            ]
          },
          "metadata": {
            "tags": []
          },
          "execution_count": 49
        }
      ]
    }
  ]
}
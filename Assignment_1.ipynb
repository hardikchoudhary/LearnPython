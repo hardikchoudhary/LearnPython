{
  "nbformat": 4,
  "nbformat_minor": 0,
  "metadata": {
    "colab": {
      "name": "Assignment 1.ipynb",
      "provenance": [],
      "collapsed_sections": []
    },
    "kernelspec": {
      "name": "python3",
      "display_name": "Python 3"
    }
  },
  "cells": [
    {
      "cell_type": "markdown",
      "metadata": {
        "id": "sP30Z7gEOIHS",
        "colab_type": "text"
      },
      "source": [
        "Learning with I Neuron and krish Naik Python with ML¶\n",
        "try my best to learn with best practises. Thanks :)"
      ]
    },
    {
      "cell_type": "markdown",
      "metadata": {
        "id": "igpOHgWtPjOr",
        "colab_type": "text"
      },
      "source": [
        "Task 1.\n",
        "Write a program which will find all such numbers which are divisible by 7 but are not a multiple\n",
        "of 5, between 2000 and 3200 (both included). The numbers obtained should be printed in a\n",
        "comma-separated sequence on a single line."
      ]
    },
    {
      "cell_type": "code",
      "metadata": {
        "id": "vecFttbSOAy1",
        "colab_type": "code",
        "outputId": "aa3a299d-3b8d-4a4e-8a58-2e5bf3cad131",
        "colab": {
          "base_uri": "https://localhost:8080/",
          "height": 71
        }
      },
      "source": [
        "startRange=2000\n",
        "endRange=3200\n",
        "\n",
        "check=startRange%7\n",
        "print(\"here\",check)\n",
        "#Iterating from start number till the end number\n",
        "while startRange <= endRange:\n",
        "  #check divisibilty by 7 and not 5\n",
        "  if startRange%7 == 0 and startRange%5 > 0:\n",
        "      #concatenating output sep by ,\n",
        "      output= output + \",\"  + str(startRange)\n",
        "    \n",
        "  #increment start numbrer by one \n",
        "  startRange=startRange+1\n",
        "\n",
        "print(output[0:])\n",
        "                         "
      ],
      "execution_count": 0,
      "outputs": [
        {
          "output_type": "stream",
          "text": [
            "here 5\n",
            "2002,2009,2016,2023,2037,2044,2051,2058,2072,2079,2086,2093,2107,2114,2121,2128,2142,2149,2156,2163,2177,2184,2191,2198,2212,2219,2226,2233,2247,2254,2261,2268,2282,2289,2296,2303,2317,2324,2331,2338,2352,2359,2366,2373,2387,2394,2401,2408,2422,2429,2436,2443,2457,2464,2471,2478,2492,2499,2506,2513,2527,2534,2541,2548,2562,2569,2576,2583,2597,2604,2611,2618,2632,2639,2646,2653,2667,2674,2681,2688,2702,2709,2716,2723,2737,2744,2751,2758,2772,2779,2786,2793,2807,2814,2821,2828,2842,2849,2856,2863,2877,2884,2891,2898,2912,2919,2926,2933,2947,2954,2961,2968,2982,2989,2996,3003,3017,3024,3031,3038,3052,3059,3066,3073,3087,3094,3101,3108,3122,3129,3136,3143,3157,3164,3171,3178,3192,3199,2002,2009,2016,2023,2037,2044,2051,2058,2072,2079,2086,2093,2107,2114,2121,2128,2142,2149,2156,2163,2177,2184,2191,2198,2212,2219,2226,2233,2247,2254,2261,2268,2282,2289,2296,2303,2317,2324,2331,2338,2352,2359,2366,2373,2387,2394,2401,2408,2422,2429,2436,2443,2457,2464,2471,2478,2492,2499,2506,2513,2527,2534,2541,2548,2562,2569,2576,2583,2597,2604,2611,2618,2632,2639,2646,2653,2667,2674,2681,2688,2702,2709,2716,2723,2737,2744,2751,2758,2772,2779,2786,2793,2807,2814,2821,2828,2842,2849,2856,2863,2877,2884,2891,2898,2912,2919,2926,2933,2947,2954,2961,2968,2982,2989,2996,3003,3017,3024,3031,3038,3052,3059,3066,3073,3087,3094,3101,3108,3122,3129,3136,3143,3157,3164,3171,3178,3192,3199,2002,2009,2016,2023,2037,2044,2051,2058,2072,2079,2086,2093,2107,2114,2121,2128,2142,2149,2156,2163,2177,2184,2191,2198,2212,2219,2226,2233,2247,2254,2261,2268,2282,2289,2296,2303,2317,2324,2331,2338,2352,2359,2366,2373,2387,2394,2401,2408,2422,2429,2436,2443,2457,2464,2471,2478,2492,2499,2506,2513,2527,2534,2541,2548,2562,2569,2576,2583,2597,2604,2611,2618,2632,2639,2646,2653,2667,2674,2681,2688,2702,2709,2716,2723,2737,2744,2751,2758,2772,2779,2786,2793,2807,2814,2821,2828,2842,2849,2856,2863,2877,2884,2891,2898,2912,2919,2926,2933,2947,2954,2961,2968,2982,2989,2996,3003,3017,3024,3031,3038,3052,3059,3066,3073,3087,3094,3101,3108,3122,3129,3136,3143,3157,3164,3171,3178,3192,3199\n"
          ],
          "name": "stdout"
        }
      ]
    },
    {
      "cell_type": "markdown",
      "metadata": {
        "id": "VmuJgYzDPhpe",
        "colab_type": "text"
      },
      "source": [
        "**Task 1** Write a Python program to accept the user's first and last name and then getting them printed in\n",
        "the the reverse order with a space between first name and last name.\n"
      ]
    },
    {
      "cell_type": "code",
      "metadata": {
        "id": "CmsHvkS5RrBl",
        "colab_type": "code",
        "outputId": "aadc1869-9adb-49d6-8b8d-79d5291fe70f",
        "colab": {
          "base_uri": "https://localhost:8080/",
          "height": 68
        }
      },
      "source": [
        "firstName=input(\"Please provide your first name \")\n",
        "lastName=input(\"Please provide your last name \")\n",
        "\n",
        "#slice start stop step start from zero zero but step as -1 means start from end step 1 start from 1 with increment step by 1\n",
        "print(firstName[::-1]+\" \"+lastName[::-1])\n",
        "\n",
        "#print(reverse(firstName))\n",
        "\n",
        "#other way to reverse is by creating function not working\n",
        "# def reverse(inputs):\n",
        "#   output=\"\"\n",
        "#   for i in inputs:\n",
        "#     output=i+output\n",
        "#   return output\n"
      ],
      "execution_count": 0,
      "outputs": [
        {
          "output_type": "stream",
          "text": [
            "Please provide your first name hardik\n",
            "Please provide your last name choudhary\n",
            "kidrah yrahduohc\n"
          ],
          "name": "stdout"
        }
      ]
    },
    {
      "cell_type": "markdown",
      "metadata": {
        "id": "vzeHVcZPYYZx",
        "colab_type": "text"
      },
      "source": [
        "**Task 1**Write a Python program to find the volume of a sphere with diameter \n",
        "\n",
        "12 cm.\n",
        "Formula: V=4/3 * π * r3\n"
      ]
    },
    {
      "cell_type": "code",
      "metadata": {
        "id": "JG2_HT4YOcfN",
        "colab_type": "code",
        "outputId": "31ceb1b2-b14f-4eb9-8fb5-da5df3884c6c",
        "colab": {
          "base_uri": "https://localhost:8080/",
          "height": 34
        }
      },
      "source": [
        "\n",
        "diameter=12\n",
        "#Formula: V=4/3 * π * r3\n",
        "volume=4/3*3.14*(diameter/2)**3\n",
        "print(\"volume is :\",volume)"
      ],
      "execution_count": 0,
      "outputs": [
        {
          "output_type": "stream",
          "text": [
            "volume is : 904.3199999999999\n"
          ],
          "name": "stdout"
        }
      ]
    },
    {
      "cell_type": "markdown",
      "metadata": {
        "id": "lUT_uofR7EzX",
        "colab_type": "text"
      },
      "source": [
        "**Task 2**\n",
        "\n",
        "---\n",
        "1.\n",
        "Write a program which accepts a sequence of comma-separated numbers from console and\n",
        "generate a list\n",
        "\n"
      ]
    },
    {
      "cell_type": "code",
      "metadata": {
        "id": "jOmCo7FnZW2l",
        "colab_type": "code",
        "outputId": "49a37a38-a149-42f3-b394-b43a72714cee",
        "colab": {
          "base_uri": "https://localhost:8080/",
          "height": 68
        }
      },
      "source": [
        "userinput=input(\"Please enter the string having commas \")\n",
        "\n",
        "\n",
        "while userinput.find(\",\")==-1:\n",
        "  userinput=input(\"Please enter the string having commas as you missed ',' :\")\n",
        "\n",
        "extracted_list=userinput.split(\",\")\n",
        "print(extracted_list)\n",
        "\n",
        "\n"
      ],
      "execution_count": 0,
      "outputs": [
        {
          "output_type": "stream",
          "text": [
            "Please enter the string having commas hardik\n",
            "Please enter the string having commas as you missed ',' :hardik,choudhary\n",
            "['hardik', 'choudhary']\n"
          ],
          "name": "stdout"
        }
      ]
    },
    {
      "cell_type": "markdown",
      "metadata": {
        "id": "VvZ2muXR_Vzq",
        "colab_type": "text"
      },
      "source": [
        "2\n",
        "Create the below pattern using nested for loop in Python.\n",
        "**\n",
        "*\n",
        "* * *\n",
        "* * * *\n",
        "* * * * *\n",
        "* * * *\n",
        "* * *\n",
        "* *\n",
        "*\n",
        "\n",
        "\n",
        "\n",
        "\n",
        "\n",
        "\n"
      ]
    },
    {
      "cell_type": "code",
      "metadata": {
        "id": "cbNQatp17-Pj",
        "colab_type": "code",
        "outputId": "fb054943-8b40-4c64-a7da-f9960e7f2a54",
        "colab": {
          "base_uri": "https://localhost:8080/",
          "height": 170
        }
      },
      "source": [
        "maxStart=5\n",
        "i=1\n",
        "while i <=maxStart:\n",
        "  print(\"*\"*i)\n",
        "  i=i+1\n",
        "maxStart=maxStart-1  \n",
        "i=1\n",
        "while maxStart>=i:\n",
        "  print(\"*\"*maxStart)\n",
        "  maxStart=maxStart-1\n",
        "\n",
        "\n",
        "\n"
      ],
      "execution_count": 0,
      "outputs": [
        {
          "output_type": "stream",
          "text": [
            "*\n",
            "**\n",
            "***\n",
            "****\n",
            "*****\n",
            "****\n",
            "***\n",
            "**\n",
            "*\n"
          ],
          "name": "stdout"
        }
      ]
    },
    {
      "cell_type": "markdown",
      "metadata": {
        "id": "e8QBqPs9KGcD",
        "colab_type": "text"
      },
      "source": [
        "3.\n",
        "Write a Python program to reverse a word after accepting the input from the user.\n",
        "Sample Output:\n",
        "Input word: AcadGild\n",
        "Output: dilGdacA"
      ]
    },
    {
      "cell_type": "code",
      "metadata": {
        "id": "Dy73BdzOAXE4",
        "colab_type": "code",
        "outputId": "716b6a7c-5b97-4319-bfc4-f01e3c5cebed",
        "colab": {
          "base_uri": "https://localhost:8080/",
          "height": 51
        }
      },
      "source": [
        "userinput=input(\"Enter  word \")\n",
        "lens=len(userinput)\n",
        "output=\"\"\n",
        "lens=lens-1\n",
        "while lens>=0:\n",
        "  output=output+userinput[lens]\n",
        "  lens=lens-1\n",
        "print(output)"
      ],
      "execution_count": 0,
      "outputs": [
        {
          "output_type": "stream",
          "text": [
            "Enter  word hardik\n",
            "kidrah\n"
          ],
          "name": "stdout"
        }
      ]
    },
    {
      "cell_type": "markdown",
      "metadata": {
        "id": "h9TVhTsTEqGu",
        "colab_type": "text"
      },
      "source": [
        "Write a Python Program to print the given string in the format specified in the ​sample output.\n",
        "WE, THE PEOPLE OF INDIA, having solemnly resolved to constitute India into a\n",
        "SOVEREIGN, SOCIALIST, SECULAR, DEMOCRATIC REPUBLIC and to secure to all\n",
        "its citizens"
      ]
    },
    {
      "cell_type": "markdown",
      "metadata": {
        "id": "3ILPdEVgE42e",
        "colab_type": "text"
      },
      "source": [
        "Write a Python Program to print the given string in the format specified in the ​sample output.\n",
        "WE, THE PEOPLE OF INDIA, having solemnly resolved to constitute India into a\n",
        "SOVEREIGN, SOCIALIST, SECULAR, DEMOCRATIC REPUBLIC and to secure to all\n",
        "its citizens"
      ]
    },
    {
      "cell_type": "code",
      "metadata": {
        "id": "mgWhocR_KwSq",
        "colab_type": "code",
        "colab": {}
      },
      "source": [
        "input=\"Write a Python Program to print the given string in the format specified in the ​sample output. WE, THE PEOPLE OF INDIA, having solemnly resolved to constitute India into a SOVEREIGN, SOCIALIST, SECULAR, DEMOCRATIC REPUBLIC and to secure to all its citizens\"\n"
      ],
      "execution_count": 0,
      "outputs": []
    }
  ]
}